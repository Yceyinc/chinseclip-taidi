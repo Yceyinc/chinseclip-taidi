{
 "cells": [
  {
   "cell_type": "markdown",
   "id": "cc147ff1",
   "metadata": {},
   "source": [
    "# “图检文” 任务 预处理\n",
    "\n",
    "基于文本检索的模型和算法，利用附件 3 中“image_test.csv”文件提及的图像ID，\n",
    "\n",
    "对附件 3 的“word_data.csv”文件进行文本检索，并罗列检索相似度较高的前五条文本，\n",
    "\n",
    "将结果存放在“result2.csv”文件中（模板文件见附件 4 的 result2.csv）。\n",
    "\n",
    "其中，“image_test.csv”文件提及的图像 id，对应的图像数据可在附件 3 的 ImageData 文件夹中获取"
   ]
  },
  {
   "cell_type": "code",
   "execution_count": 1,
   "id": "91abf475",
   "metadata": {
    "ExecuteTime": {
     "end_time": "2024-03-23T03:48:49.169066Z",
     "start_time": "2024-03-23T03:48:48.570643Z"
    }
   },
   "outputs": [],
   "source": [
    "from PIL import Image\n",
    "from io import BytesIO\n",
    "import base64\n",
    "import pandas as pd \n",
    "import numpy as np\n",
    "import re  \n",
    "import os  \n",
    "import base64  \n",
    "import csv"
   ]
  },
  {
   "cell_type": "code",
   "execution_count": 2,
   "id": "27b1c1be",
   "metadata": {
    "ExecuteTime": {
     "end_time": "2024-03-23T03:48:50.616253Z",
     "start_time": "2024-03-23T03:48:50.601293Z"
    }
   },
   "outputs": [],
   "source": [
    "Path_ =  r\"D:/2024tdb/B/B题-示例数据/示例数据/附件3/\"     ##附件s三文件夹路径\n",
    "Path_img = r\"D:/2024tdb/B/B题-示例数据/示例数据/附件3/ImageData\"  ##附件三 ImageData文件夹路径\n",
    "Path_image_test_csv = r\"D:/2024tdb/B/B题-示例数据/示例数据/附件3/image_test.csv\"  ##附件二 image_test.csv路径\n",
    "Path_word_data_csv = r\"D:/2024tdb/B/B题-示例数据/示例数据/附件3/word_data.csv\"  ##附件二 word_data.csv\"路径"
   ]
  },
  {
   "cell_type": "markdown",
   "id": "f516b9fe",
   "metadata": {},
   "source": [
    "## 生成附件3的ImageData文件夹图片的模型数据"
   ]
  },
  {
   "cell_type": "code",
   "execution_count": 3,
   "id": "3f39ebe4",
   "metadata": {
    "ExecuteTime": {
     "end_time": "2024-03-23T03:49:00.403507Z",
     "start_time": "2024-03-23T03:49:00.383557Z"
    }
   },
   "outputs": [],
   "source": [
    "\n",
    "##图片转为base64：\n",
    "def img2base64(img_path):\n",
    "    img = Image.open(img_path) # 访问图片路径\n",
    "    img_buffer = BytesIO()\n",
    "    img.save(img_buffer, format=img.format)\n",
    "    byte_data = img_buffer.getvalue()\n",
    "    base64_str = base64.b64encode(byte_data) # bytes\n",
    "    base64_str = base64_str.decode(\"utf-8\") # str\n",
    "    return base64_str"
   ]
  },
  {
   "cell_type": "code",
   "execution_count": 4,
   "id": "2e2cda45",
   "metadata": {
    "ExecuteTime": {
     "end_time": "2024-03-23T03:49:01.105960Z",
     "start_time": "2024-03-23T03:49:01.079034Z"
    }
   },
   "outputs": [],
   "source": [
    "## 读取图片对应的image_test.csv进行，图片id新生成对应表，以及图片clip模型数据：\n",
    "\n",
    "df = pd.read_csv(Path_image_test_csv,encoding='utf-8') \n",
    "df \n",
    "\n",
    "new_image_ids = []\n",
    "for image_id in df['image_id']:\n",
    "    s = image_id.replace('-',\"\")\n",
    "    new_image_id = re.findall(r'\\d+', s)[0] \n",
    "    new_image_ids.append(new_image_id)\n",
    "df['new_image_id'] = new_image_ids\n",
    "df \n",
    "df.to_csv(\"任务三image_id对照表.csv\",encoding='utf-8',index=False)"
   ]
  },
  {
   "cell_type": "code",
   "execution_count": 5,
   "id": "312e77ab",
   "metadata": {
    "ExecuteTime": {
     "end_time": "2024-03-23T03:49:13.162440Z",
     "start_time": "2024-03-23T03:49:13.145487Z"
    }
   },
   "outputs": [],
   "source": [
    "def creat_clipdata(df, ImageData_PATH, task):\n",
    "     with open(f\"{task}_imgs.tsv\", 'w', newline='',encoding='utf-8') as tsvfile:\n",
    "        tsvwriter = csv.writer(tsvfile, delimiter='\\t')\n",
    "        for index, row in df.iterrows():\n",
    "            imgpath = os.path.join(ImageData_PATH,row['image_id'])\n",
    "            b64img = img2base64(imgpath)\n",
    "            tsvwriter.writerow([row['new_image_id'],b64img])\n",
    "        tsvfile.close()"
   ]
  },
  {
   "cell_type": "code",
   "execution_count": 6,
   "id": "0264576b",
   "metadata": {
    "ExecuteTime": {
     "end_time": "2024-03-23T03:49:14.712565Z",
     "start_time": "2024-03-23T03:49:13.676339Z"
    }
   },
   "outputs": [],
   "source": [
    "##生成待预测的图片的模型数据：\n",
    "creat_clipdata(df=df, ImageData_PATH=Path_img, task=\"predict2\")"
   ]
  },
  {
   "cell_type": "markdown",
   "id": "93a40957",
   "metadata": {},
   "source": [
    "## 生成附件3的文本的模型数据"
   ]
  },
  {
   "cell_type": "code",
   "execution_count": 10,
   "id": "ed589251",
   "metadata": {
    "ExecuteTime": {
     "end_time": "2024-03-22T14:02:24.384128Z",
     "start_time": "2024-03-22T14:02:24.348225Z"
    }
   },
   "outputs": [
    {
     "data": {
      "text/html": [
       "<div>\n",
       "<style scoped>\n",
       "    .dataframe tbody tr th:only-of-type {\n",
       "        vertical-align: middle;\n",
       "    }\n",
       "\n",
       "    .dataframe tbody tr th {\n",
       "        vertical-align: top;\n",
       "    }\n",
       "\n",
       "    .dataframe thead th {\n",
       "        text-align: right;\n",
       "    }\n",
       "</style>\n",
       "<table border=\"1\" class=\"dataframe\">\n",
       "  <thead>\n",
       "    <tr style=\"text-align: right;\">\n",
       "      <th></th>\n",
       "      <th>text_id</th>\n",
       "      <th>caption</th>\n",
       "      <th>new_text_id</th>\n",
       "    </tr>\n",
       "  </thead>\n",
       "  <tbody>\n",
       "    <tr>\n",
       "      <th>0</th>\n",
       "      <td>Word-1000050041</td>\n",
       "      <td>吞下委屈,才能喂大格局</td>\n",
       "      <td>1000050041</td>\n",
       "    </tr>\n",
       "    <tr>\n",
       "      <th>1</th>\n",
       "      <td>Word-1000050124</td>\n",
       "      <td>于是就出现了一个话题,就是娱乐圈的大叔们越来越胖,和香港男人形成</td>\n",
       "      <td>1000050124</td>\n",
       "    </tr>\n",
       "    <tr>\n",
       "      <th>2</th>\n",
       "      <td>Word-1000050258</td>\n",
       "      <td>ic小禾新款polo领撞色条纹宽松针织短袖t恤</td>\n",
       "      <td>1000050258</td>\n",
       "    </tr>\n",
       "    <tr>\n",
       "      <th>3</th>\n",
       "      <td>Word-1000050272</td>\n",
       "      <td>奇葩说第五季颜如晶再度错失bbking 陈铭赢在哪里?</td>\n",
       "      <td>1000050272</td>\n",
       "    </tr>\n",
       "    <tr>\n",
       "      <th>4</th>\n",
       "      <td>Word-1000050310</td>\n",
       "      <td>竞争激烈国产第6款pd1即将获批来自誉衡药业药明生物</td>\n",
       "      <td>1000050310</td>\n",
       "    </tr>\n",
       "    <tr>\n",
       "      <th>...</th>\n",
       "      <td>...</td>\n",
       "      <td>...</td>\n",
       "      <td>...</td>\n",
       "    </tr>\n",
       "    <tr>\n",
       "      <th>995</th>\n",
       "      <td>Word-1000099625</td>\n",
       "      <td>都什么年代了,为什么军队不许左撇子扔手榴弹?</td>\n",
       "      <td>1000099625</td>\n",
       "    </tr>\n",
       "    <tr>\n",
       "      <th>996</th>\n",
       "      <td>Word-1000099707</td>\n",
       "      <td>中国女乒顺利交接男乒不清晰马龙大蟒还想打年轻队员还要等</td>\n",
       "      <td>1000099707</td>\n",
       "    </tr>\n",
       "    <tr>\n",
       "      <th>997</th>\n",
       "      <td>Word-1000099785</td>\n",
       "      <td>尊师重道代代延续.</td>\n",
       "      <td>1000099785</td>\n",
       "    </tr>\n",
       "    <tr>\n",
       "      <th>998</th>\n",
       "      <td>Word-1000099789</td>\n",
       "      <td>这次行动就是对此类违法活动的一次排查与打击.</td>\n",
       "      <td>1000099789</td>\n",
       "    </tr>\n",
       "    <tr>\n",
       "      <th>999</th>\n",
       "      <td>Word-1000099909</td>\n",
       "      <td>古代人睡觉为何用\"瓷枕\",这么硬枕着不难受吗?专家:方便女子</td>\n",
       "      <td>1000099909</td>\n",
       "    </tr>\n",
       "  </tbody>\n",
       "</table>\n",
       "<p>1000 rows × 3 columns</p>\n",
       "</div>"
      ],
      "text/plain": [
       "             text_id                           caption new_text_id\n",
       "0    Word-1000050041                       吞下委屈,才能喂大格局  1000050041\n",
       "1    Word-1000050124  于是就出现了一个话题,就是娱乐圈的大叔们越来越胖,和香港男人形成  1000050124\n",
       "2    Word-1000050258           ic小禾新款polo领撞色条纹宽松针织短袖t恤  1000050258\n",
       "3    Word-1000050272       奇葩说第五季颜如晶再度错失bbking 陈铭赢在哪里?  1000050272\n",
       "4    Word-1000050310        竞争激烈国产第6款pd1即将获批来自誉衡药业药明生物  1000050310\n",
       "..               ...                               ...         ...\n",
       "995  Word-1000099625            都什么年代了,为什么军队不许左撇子扔手榴弹?  1000099625\n",
       "996  Word-1000099707       中国女乒顺利交接男乒不清晰马龙大蟒还想打年轻队员还要等  1000099707\n",
       "997  Word-1000099785                         尊师重道代代延续.  1000099785\n",
       "998  Word-1000099789            这次行动就是对此类违法活动的一次排查与打击.  1000099789\n",
       "999  Word-1000099909    古代人睡觉为何用\"瓷枕\",这么硬枕着不难受吗?专家:方便女子  1000099909\n",
       "\n",
       "[1000 rows x 3 columns]"
      ]
     },
     "execution_count": 10,
     "metadata": {},
     "output_type": "execute_result"
    }
   ],
   "source": [
    "## 读取文本对应的word_data_csv.csv进行，文本id新生成对应表，以及文本clip模型数据：\n",
    "\n",
    "\n",
    "df = pd.read_csv(Path_word_data_csv, encoding=\"gb18030\") \n",
    "new_text_ids = []\n",
    "for text_id in df['text_id']:\n",
    "    s = text_id.replace('-',\"\")\n",
    "    new_text_id = re.findall(r'\\d+', s)[0] \n",
    "    new_text_ids.append(new_text_id)\n",
    "df['new_text_id'] = new_text_ids\n",
    "df "
   ]
  },
  {
   "cell_type": "code",
   "execution_count": 13,
   "id": "75a95a9c",
   "metadata": {
    "ExecuteTime": {
     "end_time": "2024-03-22T14:02:57.013061Z",
     "start_time": "2024-03-22T14:02:56.997077Z"
    }
   },
   "outputs": [],
   "source": [
    "import re \n",
    "def clear_txt(sent):\n",
    "    org_sent = sent\n",
    "    clear_words = [\"<人名>\",\"《\",\"》\",\"【\",\"】\",\"→\",\":\",\"—\"]\n",
    "    pattern = re.compile(r'【(.*?)】|《(.*?)》|“(.*?)”', re.DOTALL)\n",
    "    # 查找所有匹配项  \n",
    "    matches = pattern.findall(sent)  \n",
    "    # 整理匹配结果  \n",
    "    resultskeys = []  \n",
    "    for match in matches:  \n",
    "        for group in match:  \n",
    "            if group:  \n",
    "                resultskeys.append(group)   ##第一次处理后关键词\n",
    "                \n",
    "    for cw in clear_words:\n",
    "        if cw in sent:\n",
    "            sent = sent.replace(cw,\" \")  ##第二次处理后sent\n",
    "    sent2 = sent\n",
    "    \n",
    "    for key in resultskeys:\n",
    "        sent = sent.replace(key,\"\")\n",
    "    sent_dropkey = sent\n",
    "            \n",
    "    return org_sent, resultskeys,sent2, sent_dropkey\n",
    "\n",
    "import jionlp as jio\n",
    "def jionlp_keys(text):\n",
    "    key_phrases = jio.keyphrase.extract_keyphrase(top_k=3,func_word_num=2,strict_pos=True,text=text)\n",
    "    return key_phrases\n"
   ]
  },
  {
   "cell_type": "code",
   "execution_count": 14,
   "id": "77156fad",
   "metadata": {
    "ExecuteTime": {
     "end_time": "2024-03-22T14:03:10.187974Z",
     "start_time": "2024-03-22T14:02:59.013858Z"
    }
   },
   "outputs": [
    {
     "data": {
      "text/html": [
       "<div>\n",
       "<style scoped>\n",
       "    .dataframe tbody tr th:only-of-type {\n",
       "        vertical-align: middle;\n",
       "    }\n",
       "\n",
       "    .dataframe tbody tr th {\n",
       "        vertical-align: top;\n",
       "    }\n",
       "\n",
       "    .dataframe thead th {\n",
       "        text-align: right;\n",
       "    }\n",
       "</style>\n",
       "<table border=\"1\" class=\"dataframe\">\n",
       "  <thead>\n",
       "    <tr style=\"text-align: right;\">\n",
       "      <th></th>\n",
       "      <th>text_id</th>\n",
       "      <th>caption</th>\n",
       "      <th>new_text_id</th>\n",
       "      <th>new_caption</th>\n",
       "    </tr>\n",
       "  </thead>\n",
       "  <tbody>\n",
       "    <tr>\n",
       "      <th>0</th>\n",
       "      <td>Word-1000050041</td>\n",
       "      <td>吞下委屈,才能喂大格局</td>\n",
       "      <td>1000050041</td>\n",
       "      <td>吞下委屈,才能喂大格局</td>\n",
       "    </tr>\n",
       "    <tr>\n",
       "      <th>1</th>\n",
       "      <td>Word-1000050124</td>\n",
       "      <td>于是就出现了一个话题,就是娱乐圈的大叔们越来越胖,和香港男人形成</td>\n",
       "      <td>1000050124</td>\n",
       "      <td>香港男人 大叔们 娱乐圈</td>\n",
       "    </tr>\n",
       "    <tr>\n",
       "      <th>2</th>\n",
       "      <td>Word-1000050258</td>\n",
       "      <td>ic小禾新款polo领撞色条纹宽松针织短袖t恤</td>\n",
       "      <td>1000050258</td>\n",
       "      <td>撞色条纹宽松针织短袖t恤 ic 新款polo</td>\n",
       "    </tr>\n",
       "    <tr>\n",
       "      <th>3</th>\n",
       "      <td>Word-1000050272</td>\n",
       "      <td>奇葩说第五季颜如晶再度错失bbking 陈铭赢在哪里?</td>\n",
       "      <td>1000050272</td>\n",
       "      <td>晶 奇葩 陈铭</td>\n",
       "    </tr>\n",
       "    <tr>\n",
       "      <th>4</th>\n",
       "      <td>Word-1000050310</td>\n",
       "      <td>竞争激烈国产第6款pd1即将获批来自誉衡药业药明生物</td>\n",
       "      <td>1000050310</td>\n",
       "      <td>誉衡药业药明生物 pd1</td>\n",
       "    </tr>\n",
       "    <tr>\n",
       "      <th>...</th>\n",
       "      <td>...</td>\n",
       "      <td>...</td>\n",
       "      <td>...</td>\n",
       "      <td>...</td>\n",
       "    </tr>\n",
       "    <tr>\n",
       "      <th>995</th>\n",
       "      <td>Word-1000099625</td>\n",
       "      <td>都什么年代了,为什么军队不许左撇子扔手榴弹?</td>\n",
       "      <td>1000099625</td>\n",
       "      <td>手榴弹 撇子 军队</td>\n",
       "    </tr>\n",
       "    <tr>\n",
       "      <th>996</th>\n",
       "      <td>Word-1000099707</td>\n",
       "      <td>中国女乒顺利交接男乒不清晰马龙大蟒还想打年轻队员还要等</td>\n",
       "      <td>1000099707</td>\n",
       "      <td>男乒 中国女乒 年轻队员</td>\n",
       "    </tr>\n",
       "    <tr>\n",
       "      <th>997</th>\n",
       "      <td>Word-1000099785</td>\n",
       "      <td>尊师重道代代延续.</td>\n",
       "      <td>1000099785</td>\n",
       "      <td>尊师重道代代延续.</td>\n",
       "    </tr>\n",
       "    <tr>\n",
       "      <th>998</th>\n",
       "      <td>Word-1000099789</td>\n",
       "      <td>这次行动就是对此类违法活动的一次排查与打击.</td>\n",
       "      <td>1000099789</td>\n",
       "      <td>违法活动 行动</td>\n",
       "    </tr>\n",
       "    <tr>\n",
       "      <th>999</th>\n",
       "      <td>Word-1000099909</td>\n",
       "      <td>古代人睡觉为何用\"瓷枕\",这么硬枕着不难受吗?专家:方便女子</td>\n",
       "      <td>1000099909</td>\n",
       "      <td>瓷枕 女子 专家</td>\n",
       "    </tr>\n",
       "  </tbody>\n",
       "</table>\n",
       "<p>1000 rows × 4 columns</p>\n",
       "</div>"
      ],
      "text/plain": [
       "             text_id                           caption new_text_id  \\\n",
       "0    Word-1000050041                       吞下委屈,才能喂大格局  1000050041   \n",
       "1    Word-1000050124  于是就出现了一个话题,就是娱乐圈的大叔们越来越胖,和香港男人形成  1000050124   \n",
       "2    Word-1000050258           ic小禾新款polo领撞色条纹宽松针织短袖t恤  1000050258   \n",
       "3    Word-1000050272       奇葩说第五季颜如晶再度错失bbking 陈铭赢在哪里?  1000050272   \n",
       "4    Word-1000050310        竞争激烈国产第6款pd1即将获批来自誉衡药业药明生物  1000050310   \n",
       "..               ...                               ...         ...   \n",
       "995  Word-1000099625            都什么年代了,为什么军队不许左撇子扔手榴弹?  1000099625   \n",
       "996  Word-1000099707       中国女乒顺利交接男乒不清晰马龙大蟒还想打年轻队员还要等  1000099707   \n",
       "997  Word-1000099785                         尊师重道代代延续.  1000099785   \n",
       "998  Word-1000099789            这次行动就是对此类违法活动的一次排查与打击.  1000099789   \n",
       "999  Word-1000099909    古代人睡觉为何用\"瓷枕\",这么硬枕着不难受吗?专家:方便女子  1000099909   \n",
       "\n",
       "                 new_caption  \n",
       "0                吞下委屈,才能喂大格局  \n",
       "1              香港男人 大叔们 娱乐圈   \n",
       "2    撞色条纹宽松针织短袖t恤 ic 新款polo   \n",
       "3                   晶 奇葩 陈铭   \n",
       "4              誉衡药业药明生物 pd1   \n",
       "..                       ...  \n",
       "995               手榴弹 撇子 军队   \n",
       "996            男乒 中国女乒 年轻队员   \n",
       "997                尊师重道代代延续.  \n",
       "998                 违法活动 行动   \n",
       "999                瓷枕 女子 专家   \n",
       "\n",
       "[1000 rows x 4 columns]"
      ]
     },
     "execution_count": 14,
     "metadata": {},
     "output_type": "execute_result"
    }
   ],
   "source": [
    "new_caption = []\n",
    "for sent in df[\"caption\"]:\n",
    "    if len(sent) < 15:\n",
    "        new_caption.append(sent)\n",
    "    else:\n",
    "        key_list =[]\n",
    "        org_sent, resultskeys,sent2, sent_dropkey = clear_txt(sent)\n",
    "        if len(resultskeys) >0:\n",
    "            for key in resultskeys:\n",
    "                key_list.append(key)\n",
    "        for v1 in jionlp_keys(sent2):\n",
    "            if v1 not in key_list:\n",
    "                key_list.append(v1)\n",
    "        \n",
    "        for v2 in jionlp_keys(sent_dropkey):\n",
    "            if v2 not in key_list:\n",
    "                key_list.append(v2)\n",
    "        \n",
    "        new_sent = \"\"\n",
    "        for kw in key_list:\n",
    "            new_sent=new_sent+kw+' '\n",
    "        \n",
    "        new_caption.append(new_sent)\n",
    "        \n",
    "new_caption\n",
    "df['new_caption'] = new_caption\n",
    "df"
   ]
  },
  {
   "cell_type": "code",
   "execution_count": 15,
   "id": "ffcfdfe9",
   "metadata": {
    "ExecuteTime": {
     "end_time": "2024-03-22T14:03:18.764184Z",
     "start_time": "2024-03-22T14:03:18.750222Z"
    }
   },
   "outputs": [],
   "source": [
    "df.to_csv(\"任务三text_id对照表.csv\",encoding='utf-8',index=False)"
   ]
  },
  {
   "cell_type": "code",
   "execution_count": 16,
   "id": "8d174c7d",
   "metadata": {
    "ExecuteTime": {
     "end_time": "2024-03-22T14:03:28.388882Z",
     "start_time": "2024-03-22T14:03:28.375916Z"
    }
   },
   "outputs": [],
   "source": [
    "def creat_clipdata(df, task):\n",
    "    with open(f\"{task}_texts.jsonl\", 'w', encoding='utf-8') as jsonlfile:\n",
    "        for index, row in df.iterrows():\n",
    "            dict_jsonl = {}\n",
    "            dict_jsonl['text_id'] = int(row['new_text_id'])\n",
    "            dict_jsonl['text'] = row['new_caption']\n",
    "            dict_jsonl['image_ids'] = []    ###任务为test时删除  int(row['new_image_id'])\n",
    "            jsonlfile.write(json.dumps(dict_jsonl)+'\\n')"
   ]
  },
  {
   "cell_type": "code",
   "execution_count": 17,
   "id": "541d31c7",
   "metadata": {
    "ExecuteTime": {
     "end_time": "2024-03-22T14:03:38.055221Z",
     "start_time": "2024-03-22T14:03:37.978409Z"
    }
   },
   "outputs": [],
   "source": [
    "##生成待预测的文本的模型数据：\n",
    "creat_clipdata(df=df, task=\"predict2\")"
   ]
  },
  {
   "cell_type": "markdown",
   "id": "138bdab7",
   "metadata": {},
   "source": [
    "# 后处理"
   ]
  },
  {
   "cell_type": "code",
   "execution_count": 7,
   "id": "b8ce0c01",
   "metadata": {
    "ExecuteTime": {
     "end_time": "2024-03-23T03:54:58.853935Z",
     "start_time": "2024-03-23T03:54:58.460986Z"
    }
   },
   "outputs": [
    {
     "name": "stderr",
     "output_type": "stream",
     "text": [
      "\n",
      "Bad key \"text.kerning_factor\" on line 4 in\n",
      "C:\\Users\\X\\.conda\\envs\\Pytorch_GPU\\lib\\site-packages\\matplotlib\\mpl-data\\stylelib\\_classic_test_patch.mplstyle.\n",
      "You probably need to get an updated matplotlibrc file from\n",
      "http://github.com/matplotlib/matplotlib/blob/master/matplotlibrc.template\n",
      "or from the matplotlib source distribution\n"
     ]
    }
   ],
   "source": [
    "import json\n",
    "from PIL import Image\n",
    "from io import BytesIO\n",
    "import base64\n",
    "import pandas as pd \n",
    "import numpy as np\n",
    "import re  \n",
    "import os  \n",
    "import base64  \n",
    "import csv\n",
    "from PIL import Image  \n",
    "import matplotlib.pyplot as plt  \n",
    "import os  "
   ]
  },
  {
   "cell_type": "code",
   "execution_count": 8,
   "id": "987216cf",
   "metadata": {
    "ExecuteTime": {
     "end_time": "2024-03-23T03:54:59.735040Z",
     "start_time": "2024-03-23T03:54:59.718086Z"
    }
   },
   "outputs": [],
   "source": [
    "Path_img = r\"D:/2024tdb/B/B题-示例数据/示例数据/附件3/ImageData\"  ##附件三 ImageData文件夹路径\n",
    "\n",
    "img2text_result = r\"./predict2_img2txt.jsonl\"   ###图片预测文本的结果"
   ]
  },
  {
   "cell_type": "code",
   "execution_count": 9,
   "id": "4ef8de82",
   "metadata": {
    "ExecuteTime": {
     "end_time": "2024-03-23T03:55:01.905951Z",
     "start_time": "2024-03-23T03:55:01.894980Z"
    },
    "scrolled": true
   },
   "outputs": [
    {
     "name": "stdout",
     "output_type": "stream",
     "text": [
      "{'image_id': 140010139673, 'text_ids': [1000082155, 1000093145, 1000072779, 1000075349, 1000099425]}\n",
      "{'image_id': 140010140314, 'text_ids': [1000097472, 1000058737, 1000092116, 1000054948, 1000057493]}\n",
      "{'image_id': 140010143805, 'text_ids': [1000074505, 1000058302, 1000052265, 1000093552, 1000075335]}\n",
      "{'image_id': 140010144177, 'text_ids': [1000084392, 1000062709, 1000078004, 1000072367, 1000057493]}\n",
      "{'image_id': 140010144696, 'text_ids': [1000080829, 1000092132, 1000079685, 1000083190, 1000071033]}\n",
      "{'image_id': 140010144902, 'text_ids': [1000098769, 1000066853, 1000086230, 1000056793, 1000089840]}\n",
      "{'image_id': 140010145685, 'text_ids': [1000063611, 1000056708, 1000074505, 1000052265, 1000075384]}\n",
      "{'image_id': 140010145858, 'text_ids': [1000088040, 1000052728, 1000099425, 1000083638, 1000080875]}\n",
      "{'image_id': 140010146488, 'text_ids': [1000067733, 1000099521, 1000089997, 1000067079, 1000094197]}\n",
      "{'image_id': 140010147394, 'text_ids': [1000095484, 1000084712, 1000077889, 1000060301, 1000095302]}\n",
      "{'image_id': 140010147492, 'text_ids': [1000074421, 1000086689, 1000091889, 1000087317, 1000081823]}\n",
      "{'image_id': 140010148012, 'text_ids': [1000073850, 1000095302, 1000058071, 1000083157, 1000052506]}\n",
      "{'image_id': 140010148069, 'text_ids': [1000094384, 1000060301, 1000087373, 1000081823, 1000067079]}\n",
      "{'image_id': 140010148266, 'text_ids': [1000091781, 1000059062, 1000091471, 1000088430, 1000054594]}\n",
      "{'image_id': 140010148324, 'text_ids': [1000060310, 1000073256, 1000087317, 1000074397, 1000051313]}\n",
      "{'image_id': 140010148696, 'text_ids': [1000076426, 1000070050, 1000068489, 1000082395, 1000092630]}\n",
      "{'image_id': 140010148840, 'text_ids': [1000060022, 1000072473, 1000082193, 1000055704, 1000096657]}\n",
      "{'image_id': 140010149805, 'text_ids': [1000074421, 1000091889, 1000052326, 1000050847, 1000078954]}\n",
      "{'image_id': 140010150009, 'text_ids': [1000071713, 1000098924, 1000096657, 1000077019, 1000085559]}\n",
      "{'image_id': 140010151289, 'text_ids': [1000050272, 1000078695, 1000070863, 1000090738, 1000094695]}\n",
      "{'image_id': 140010151650, 'text_ids': [1000052969, 1000091471, 1000054850, 1000094544, 1000087942]}\n",
      "{'image_id': 140010152299, 'text_ids': [1000097115, 1000074664, 1000066188, 1000098668, 1000066928]}\n",
      "{'image_id': 140010152621, 'text_ids': [1000095353, 1000099789, 1000089739, 1000086300, 1000071950]}\n",
      "{'image_id': 140010152902, 'text_ids': [1000088166, 1000091975, 1000051242, 1000078210, 1000093683]}\n",
      "{'image_id': 140010153145, 'text_ids': [1000057779, 1000080875, 1000086799, 1000060754, 1000091957]}\n",
      "{'image_id': 140010153152, 'text_ids': [1000065470, 1000076712, 1000084012, 1000053593, 1000068632]}\n",
      "{'image_id': 140010153496, 'text_ids': [1000067055, 1000079426, 1000061232, 1000078048, 1000060754]}\n",
      "{'image_id': 140010154900, 'text_ids': [1000050499, 1000064003, 1000085317, 1000078081, 1000079219]}\n",
      "{'image_id': 140010154950, 'text_ids': [1000097847, 1000068632, 1000089437, 1000081480, 1000057773]}\n",
      "{'image_id': 140010156070, 'text_ids': [1000074865, 1000074212, 1000059695, 1000050770, 1000065083]}\n",
      "{'image_id': 140010156383, 'text_ids': [1000088188, 1000098815, 1000061730, 1000063717, 1000078082]}\n",
      "{'image_id': 140010157192, 'text_ids': [1000059062, 1000063641, 1000059987, 1000062249, 1000098235]}\n",
      "{'image_id': 140010157349, 'text_ids': [1000093683, 1000091975, 1000058593, 1000058988, 1000051123]}\n",
      "{'image_id': 140010157770, 'text_ids': [1000093377, 1000051355, 1000052326, 1000063784, 1000054777]}\n",
      "{'image_id': 140010158894, 'text_ids': [1000072350, 1000058988, 1000080907, 1000098727, 1000054850]}\n",
      "{'image_id': 140010160123, 'text_ids': [1000055197, 1000088430, 1000059062, 1000075559, 1000090738]}\n",
      "{'image_id': 140010160386, 'text_ids': [1000056027, 1000055135, 1000078210, 1000087317, 1000082027]}\n",
      "{'image_id': 140010160632, 'text_ids': [1000059987, 1000058737, 1000068632, 1000081823, 1000071541]}\n",
      "{'image_id': 140010160751, 'text_ids': [1000094628, 1000098689, 1000082210, 1000051403, 1000056798]}\n",
      "{'image_id': 140010163000, 'text_ids': [1000050599, 1000080459, 1000092815, 1000094197, 1000052728]}\n",
      "{'image_id': 140010163560, 'text_ids': [1000067079, 1000098471, 1000052915, 1000081823, 1000097229]}\n",
      "{'image_id': 140010164676, 'text_ids': [1000097937, 1000072034, 1000071357, 1000052315, 1000074980]}\n",
      "{'image_id': 140010165181, 'text_ids': [1000060149, 1000063611, 1000061204, 1000099037, 1000071558]}\n",
      "{'image_id': 140010166810, 'text_ids': [1000090485, 1000052152, 1000087154, 1000065316, 1000085559]}\n",
      "{'image_id': 141050010897, 'text_ids': [1000088480, 1000065940, 1000057686, 1000056104, 1000063536]}\n",
      "{'image_id': 141050011132, 'text_ids': [1000075054, 1000086550, 1000074658, 1000080157, 1000091889]}\n",
      "{'image_id': 141050012420, 'text_ids': [1000074688, 1000063488, 1000090771, 1000059191, 1000080710]}\n",
      "{'image_id': 141050013088, 'text_ids': [1000056142, 1000052293, 1000088692, 1000064028, 1000079219]}\n",
      "{'image_id': 141050013602, 'text_ids': [1000082161, 1000088692, 1000094142, 1000055795, 1000052293]}\n",
      "{'image_id': 141050013730, 'text_ids': [1000072779, 1000099425, 1000083638, 1000066577, 1000093145]}\n",
      "{'image_id': 141050015969, 'text_ids': [1000095989, 1000074505, 1000083025, 1000082684, 1000058302]}\n",
      "{'image_id': 141050016063, 'text_ids': [1000052710, 1000060301, 1000055367, 1000073532, 1000069459]}\n",
      "{'image_id': 141050016143, 'text_ids': [1000055923, 1000076666, 1000088430, 1000052293, 1000050499]}\n",
      "{'image_id': 141050016515, 'text_ids': [1000064664, 1000081823, 1000060301, 1000067079, 1000082372]}\n",
      "{'image_id': 141050016706, 'text_ids': [1000099625, 1000078795, 1000088969, 1000056516, 1000066577]}\n",
      "{'image_id': 141050017266, 'text_ids': [1000058059, 1000091957, 1000085105, 1000062504, 1000056104]}\n",
      "{'image_id': 141050017295, 'text_ids': [1000060346, 1000089218, 1000065316, 1000098650, 1000090771]}\n",
      "{'image_id': 141050017524, 'text_ids': [1000088692, 1000052293, 1000050310, 1000089437, 1000066188]}\n",
      "{'image_id': 141050019248, 'text_ids': [1000095714, 1000050847, 1000067079, 1000063784, 1000087942]}\n",
      "{'image_id': 141050019371, 'text_ids': [1000085261, 1000080186, 1000065786, 1000057448, 1000071673]}\n",
      "{'image_id': 141050019767, 'text_ids': [1000078058, 1000067349, 1000074505, 1000071558, 1000052265]}\n",
      "{'image_id': 141050019800, 'text_ids': [1000098668, 1000086645, 1000090648, 1000086428, 1000088143]}\n",
      "{'image_id': 141050020364, 'text_ids': [1000050404, 1000083157, 1000076712, 1000053593, 1000088941]}\n",
      "{'image_id': 141050022277, 'text_ids': [1000055578, 1000077019, 1000089792, 1000064860, 1000071708]}\n",
      "{'image_id': 141050024604, 'text_ids': [1000074505, 1000061020, 1000075728, 1000067349, 1000055089]}\n",
      "{'image_id': 141050024830, 'text_ids': [1000071553, 1000060754, 1000069009, 1000091143, 1000097937]}\n",
      "{'image_id': 141050025002, 'text_ids': [1000088549, 1000056721, 1000086300, 1000096754, 1000093552]}\n",
      "{'image_id': 141050025517, 'text_ids': [1000093246, 1000056793, 1000080315, 1000070189, 1000061315]}\n",
      "{'image_id': 141050026193, 'text_ids': [1000080947, 1000060921, 1000063947, 1000058729, 1000094562]}\n",
      "{'image_id': 141050026269, 'text_ids': [1000097927, 1000090709, 1000089414, 1000059191, 1000081823]}\n",
      "{'image_id': 141050026298, 'text_ids': [1000085484, 1000060301, 1000082372, 1000095484, 1000084712]}\n",
      "{'image_id': 141050028071, 'text_ids': [1000065933, 1000090771, 1000063488, 1000066398, 1000066577]}\n",
      "{'image_id': 141050028529, 'text_ids': [1000058609, 1000094450, 1000092737, 1000054354, 1000087806]}\n",
      "{'image_id': 141050029042, 'text_ids': [1000085150, 1000050929, 1000096233, 1000089414, 1000086434]}\n",
      "{'image_id': 141050029595, 'text_ids': [1000074658, 1000098098, 1000059124, 1000070127, 1000079426]}\n",
      "{'image_id': 141050030240, 'text_ids': [1000061232, 1000091957, 1000082024, 1000090107, 1000099785]}\n",
      "{'image_id': 141050031011, 'text_ids': [1000081823, 1000065222, 1000094288, 1000073911, 1000052915]}\n",
      "{'image_id': 141050031450, 'text_ids': [1000060560, 1000069902, 1000087891, 1000063367, 1000092905]}\n",
      "{'image_id': 141050032295, 'text_ids': [1000066219, 1000098520, 1000080096, 1000064115, 1000089844]}\n",
      "{'image_id': 141050033161, 'text_ids': [1000087154, 1000063320, 1000071128, 1000059191, 1000077019]}\n",
      "{'image_id': 141050033310, 'text_ids': [1000090485, 1000087437, 1000055704, 1000058982, 1000095989]}\n",
      "{'image_id': 141050033359, 'text_ids': [1000067100, 1000067349, 1000090771, 1000065494, 1000059191]}\n",
      "{'image_id': 141050034795, 'text_ids': [1000076467, 1000083638, 1000081314, 1000085926, 1000099425]}\n",
      "{'image_id': 141050035264, 'text_ids': [1000089437, 1000079599, 1000052728, 1000090648, 1000064669]}\n",
      "{'image_id': 141050036421, 'text_ids': [1000097007, 1000083553, 1000081823, 1000060783, 1000091957]}\n",
      "{'image_id': 141050037984, 'text_ids': [1000089088, 1000063367, 1000054850, 1000088166, 1000094962]}\n",
      "{'image_id': 141050038335, 'text_ids': [1000075559, 1000094989, 1000068489, 1000086993, 1000060194]}\n",
      "{'image_id': 141050038542, 'text_ids': [1000094530, 1000076779, 1000061232, 1000060907, 1000086533]}\n",
      "{'image_id': 141050039452, 'text_ids': [1000056309, 1000071553, 1000060907, 1000091143, 1000080039]}\n",
      "{'image_id': 141050040200, 'text_ids': [1000086270, 1000066914, 1000097927, 1000088430, 1000096861]}\n",
      "{'image_id': 141050040255, 'text_ids': [1000069565, 1000065316, 1000094517, 1000089218, 1000088891]}\n",
      "{'image_id': 141050040527, 'text_ids': [1000085368, 1000072101, 1000094530, 1000089977, 1000060022]}\n",
      "{'image_id': 141050040554, 'text_ids': [1000054902, 1000090286, 1000059413, 1000065566, 1000097074]}\n",
      "{'image_id': 141050040864, 'text_ids': [1000065405, 1000088430, 1000096886, 1000072497, 1000057433]}\n",
      "{'image_id': 141050041462, 'text_ids': [1000094530, 1000052265, 1000086533, 1000060813, 1000086428]}\n",
      "{'image_id': 141050042021, 'text_ids': [1000060125, 1000066188, 1000050310, 1000088503, 1000089437]}\n",
      "{'image_id': 141050042874, 'text_ids': [1000090648, 1000073850, 1000095353, 1000098732, 1000099789]}\n",
      "{'image_id': 141050043983, 'text_ids': [1000071391, 1000070358, 1000083070, 1000099037, 1000071898]}\n",
      "{'image_id': 141050045128, 'text_ids': [1000055228, 1000091593, 1000081823, 1000091957, 1000053252]}\n",
      "{'image_id': 141050046316, 'text_ids': [1000060320, 1000068387, 1000089840, 1000080875, 1000099425]}\n"
     ]
    }
   ],
   "source": [
    "## 读取结果jsonl\n",
    "with open(img2text_result, 'r', encoding=\"utf-8\") as f:\n",
    "    for index,line in enumerate(f):\n",
    "        data = json.loads(line)\n",
    "        print(data)"
   ]
  },
  {
   "cell_type": "markdown",
   "id": "46f12cd4",
   "metadata": {},
   "source": [
    "### 展示图片预测文本结果"
   ]
  },
  {
   "cell_type": "code",
   "execution_count": 10,
   "id": "651764f1",
   "metadata": {
    "ExecuteTime": {
     "end_time": "2024-03-23T03:55:08.108458Z",
     "start_time": "2024-03-23T03:55:08.083524Z"
    },
    "scrolled": true
   },
   "outputs": [
    {
     "data": {
      "text/html": [
       "<div>\n",
       "<style scoped>\n",
       "    .dataframe tbody tr th:only-of-type {\n",
       "        vertical-align: middle;\n",
       "    }\n",
       "\n",
       "    .dataframe tbody tr th {\n",
       "        vertical-align: top;\n",
       "    }\n",
       "\n",
       "    .dataframe thead th {\n",
       "        text-align: right;\n",
       "    }\n",
       "</style>\n",
       "<table border=\"1\" class=\"dataframe\">\n",
       "  <thead>\n",
       "    <tr style=\"text-align: right;\">\n",
       "      <th></th>\n",
       "      <th>image_id</th>\n",
       "      <th>new_image_id</th>\n",
       "    </tr>\n",
       "  </thead>\n",
       "  <tbody>\n",
       "    <tr>\n",
       "      <th>0</th>\n",
       "      <td>Image14001013-9673.jpg</td>\n",
       "      <td>140010139673</td>\n",
       "    </tr>\n",
       "    <tr>\n",
       "      <th>1</th>\n",
       "      <td>Image14001014-0314.jpg</td>\n",
       "      <td>140010140314</td>\n",
       "    </tr>\n",
       "    <tr>\n",
       "      <th>2</th>\n",
       "      <td>Image14001014-3805.jpg</td>\n",
       "      <td>140010143805</td>\n",
       "    </tr>\n",
       "    <tr>\n",
       "      <th>3</th>\n",
       "      <td>Image14001014-4177.jpg</td>\n",
       "      <td>140010144177</td>\n",
       "    </tr>\n",
       "    <tr>\n",
       "      <th>4</th>\n",
       "      <td>Image14001014-4696.jpg</td>\n",
       "      <td>140010144696</td>\n",
       "    </tr>\n",
       "    <tr>\n",
       "      <th>...</th>\n",
       "      <td>...</td>\n",
       "      <td>...</td>\n",
       "    </tr>\n",
       "    <tr>\n",
       "      <th>95</th>\n",
       "      <td>Image14105004-2021.jpg</td>\n",
       "      <td>141050042021</td>\n",
       "    </tr>\n",
       "    <tr>\n",
       "      <th>96</th>\n",
       "      <td>Image14105004-2874.jpg</td>\n",
       "      <td>141050042874</td>\n",
       "    </tr>\n",
       "    <tr>\n",
       "      <th>97</th>\n",
       "      <td>Image14105004-3983.jpg</td>\n",
       "      <td>141050043983</td>\n",
       "    </tr>\n",
       "    <tr>\n",
       "      <th>98</th>\n",
       "      <td>Image14105004-5128.jpg</td>\n",
       "      <td>141050045128</td>\n",
       "    </tr>\n",
       "    <tr>\n",
       "      <th>99</th>\n",
       "      <td>Image14105004-6316.jpg</td>\n",
       "      <td>141050046316</td>\n",
       "    </tr>\n",
       "  </tbody>\n",
       "</table>\n",
       "<p>100 rows × 2 columns</p>\n",
       "</div>"
      ],
      "text/plain": [
       "                  image_id  new_image_id\n",
       "0   Image14001013-9673.jpg  140010139673\n",
       "1   Image14001014-0314.jpg  140010140314\n",
       "2   Image14001014-3805.jpg  140010143805\n",
       "3   Image14001014-4177.jpg  140010144177\n",
       "4   Image14001014-4696.jpg  140010144696\n",
       "..                     ...           ...\n",
       "95  Image14105004-2021.jpg  141050042021\n",
       "96  Image14105004-2874.jpg  141050042874\n",
       "97  Image14105004-3983.jpg  141050043983\n",
       "98  Image14105004-5128.jpg  141050045128\n",
       "99  Image14105004-6316.jpg  141050046316\n",
       "\n",
       "[100 rows x 2 columns]"
      ]
     },
     "execution_count": 10,
     "metadata": {},
     "output_type": "execute_result"
    }
   ],
   "source": [
    "##加载 图片  文本的id对照表：\n",
    "dfimg = pd.read_csv(\"./任务三image_id对照表.csv\",encoding='utf-8') \n",
    "dfimg\n",
    "dftext = pd.read_csv(\"./任务三text_id对照表.csv\",encoding='utf-8') \n",
    "dftext\n",
    "dfimg\n",
    "\n",
    "\n"
   ]
  },
  {
   "cell_type": "code",
   "execution_count": 11,
   "id": "31989aac",
   "metadata": {
    "ExecuteTime": {
     "end_time": "2024-03-23T03:55:10.187252Z",
     "start_time": "2024-03-23T03:55:10.163316Z"
    },
    "scrolled": true
   },
   "outputs": [
    {
     "data": {
      "text/plain": [
       "{140010139673: 'Image14001013-9673.jpg',\n",
       " 140010140314: 'Image14001014-0314.jpg',\n",
       " 140010143805: 'Image14001014-3805.jpg',\n",
       " 140010144177: 'Image14001014-4177.jpg',\n",
       " 140010144696: 'Image14001014-4696.jpg',\n",
       " 140010144902: 'Image14001014-4902.jpg',\n",
       " 140010145685: 'Image14001014-5685.jpg',\n",
       " 140010145858: 'Image14001014-5858.jpg',\n",
       " 140010146488: 'Image14001014-6488.jpg',\n",
       " 140010147394: 'Image14001014-7394.jpg',\n",
       " 140010147492: 'Image14001014-7492.jpg',\n",
       " 140010148012: 'Image14001014-8012.jpg',\n",
       " 140010148069: 'Image14001014-8069.jpg',\n",
       " 140010148266: 'Image14001014-8266.jpg',\n",
       " 140010148324: 'Image14001014-8324.jpg',\n",
       " 140010148696: 'Image14001014-8696.jpg',\n",
       " 140010148840: 'Image14001014-8840.jpg',\n",
       " 140010149805: 'Image14001014-9805.jpg',\n",
       " 140010150009: 'Image14001015-0009.jpg',\n",
       " 140010151289: 'Image14001015-1289.jpg',\n",
       " 140010151650: 'Image14001015-1650.jpg',\n",
       " 140010152299: 'Image14001015-2299.jpg',\n",
       " 140010152621: 'Image14001015-2621.jpg',\n",
       " 140010152902: 'Image14001015-2902.jpg',\n",
       " 140010153145: 'Image14001015-3145.jpg',\n",
       " 140010153152: 'Image14001015-3152.jpg',\n",
       " 140010153496: 'Image14001015-3496.jpg',\n",
       " 140010154900: 'Image14001015-4900.jpg',\n",
       " 140010154950: 'Image14001015-4950.jpg',\n",
       " 140010156070: 'Image14001015-6070.jpg',\n",
       " 140010156383: 'Image14001015-6383.jpg',\n",
       " 140010157192: 'Image14001015-7192.jpg',\n",
       " 140010157349: 'Image14001015-7349.jpg',\n",
       " 140010157770: 'Image14001015-7770.jpg',\n",
       " 140010158894: 'Image14001015-8894.jpg',\n",
       " 140010160123: 'Image14001016-0123.jpg',\n",
       " 140010160386: 'Image14001016-0386.jpg',\n",
       " 140010160632: 'Image14001016-0632.jpg',\n",
       " 140010160751: 'Image14001016-0751.jpg',\n",
       " 140010163000: 'Image14001016-3000.jpg',\n",
       " 140010163560: 'Image14001016-3560.jpg',\n",
       " 140010164676: 'Image14001016-4676.jpg',\n",
       " 140010165181: 'Image14001016-5181.jpg',\n",
       " 140010166810: 'Image14001016-6810.jpg',\n",
       " 141050010897: 'Image14105001-0897.jpg',\n",
       " 141050011132: 'Image14105001-1132.jpg',\n",
       " 141050012420: 'Image14105001-2420.jpg',\n",
       " 141050013088: 'Image14105001-3088.jpg',\n",
       " 141050013602: 'Image14105001-3602.jpg',\n",
       " 141050013730: 'Image14105001-3730.jpg',\n",
       " 141050015969: 'Image14105001-5969.jpg',\n",
       " 141050016063: 'Image14105001-6063.jpg',\n",
       " 141050016143: 'Image14105001-6143.jpg',\n",
       " 141050016515: 'Image14105001-6515.jpg',\n",
       " 141050016706: 'Image14105001-6706.jpg',\n",
       " 141050017266: 'Image14105001-7266.jpg',\n",
       " 141050017295: 'Image14105001-7295.jpg',\n",
       " 141050017524: 'Image14105001-7524.jpg',\n",
       " 141050019248: 'Image14105001-9248.jpg',\n",
       " 141050019371: 'Image14105001-9371.jpg',\n",
       " 141050019767: 'Image14105001-9767.jpg',\n",
       " 141050019800: 'Image14105001-9800.jpg',\n",
       " 141050020364: 'Image14105002-0364.jpg',\n",
       " 141050022277: 'Image14105002-2277.jpg',\n",
       " 141050024604: 'Image14105002-4604.jpg',\n",
       " 141050024830: 'Image14105002-4830.jpg',\n",
       " 141050025002: 'Image14105002-5002.jpg',\n",
       " 141050025517: 'Image14105002-5517.jpg',\n",
       " 141050026193: 'Image14105002-6193.jpg',\n",
       " 141050026269: 'Image14105002-6269.jpg',\n",
       " 141050026298: 'Image14105002-6298.jpg',\n",
       " 141050028071: 'Image14105002-8071.jpg',\n",
       " 141050028529: 'Image14105002-8529.jpg',\n",
       " 141050029042: 'Image14105002-9042.jpg',\n",
       " 141050029595: 'Image14105002-9595.jpg',\n",
       " 141050030240: 'Image14105003-0240.jpg',\n",
       " 141050031011: 'Image14105003-1011.jpg',\n",
       " 141050031450: 'Image14105003-1450.jpg',\n",
       " 141050032295: 'Image14105003-2295.jpg',\n",
       " 141050033161: 'Image14105003-3161.jpg',\n",
       " 141050033310: 'Image14105003-3310.jpg',\n",
       " 141050033359: 'Image14105003-3359.jpg',\n",
       " 141050034795: 'Image14105003-4795.jpg',\n",
       " 141050035264: 'Image14105003-5264.jpg',\n",
       " 141050036421: 'Image14105003-6421.jpg',\n",
       " 141050037984: 'Image14105003-7984.jpg',\n",
       " 141050038335: 'Image14105003-8335.jpg',\n",
       " 141050038542: 'Image14105003-8542.jpg',\n",
       " 141050039452: 'Image14105003-9452.jpg',\n",
       " 141050040200: 'Image14105004-0200.jpg',\n",
       " 141050040255: 'Image14105004-0255.jpg',\n",
       " 141050040527: 'Image14105004-0527.jpg',\n",
       " 141050040554: 'Image14105004-0554.jpg',\n",
       " 141050040864: 'Image14105004-0864.jpg',\n",
       " 141050041462: 'Image14105004-1462.jpg',\n",
       " 141050042021: 'Image14105004-2021.jpg',\n",
       " 141050042874: 'Image14105004-2874.jpg',\n",
       " 141050043983: 'Image14105004-3983.jpg',\n",
       " 141050045128: 'Image14105004-5128.jpg',\n",
       " 141050046316: 'Image14105004-6316.jpg'}"
      ]
     },
     "execution_count": 11,
     "metadata": {},
     "output_type": "execute_result"
    }
   ],
   "source": [
    "#duiyin对应键值对：\n",
    "\n",
    "textid_dict = {k:v for k, v in zip(dftext['new_text_id'], dftext['text_id'])}\n",
    "textid_dict\n",
    "\n",
    "textid2txt_dict = {k:v for k, v in zip(dftext['new_text_id'],dftext['caption'] )}\n",
    "textid2txt_dict\n",
    "\n",
    "imgid_dict = {k:v for k, v in zip( dfimg['new_image_id'], dfimg['image_id'])}\n",
    "imgid_dict\n",
    "\n",
    "# textid2txt_dict"
   ]
  },
  {
   "cell_type": "code",
   "execution_count": 12,
   "id": "19d7eca0",
   "metadata": {
    "ExecuteTime": {
     "end_time": "2024-03-23T03:55:11.834941Z",
     "start_time": "2024-03-23T03:55:11.817987Z"
    }
   },
   "outputs": [],
   "source": [
    "def show_img2txt(ditc_):\n",
    "    ##输出一张图片：\n",
    "    # 打开图片  \n",
    "    img_name = imgid_dict[ditc_['image_id']]\n",
    "    print(img_name)\n",
    "    img_path = os.path.join(Path_img, img_name)\n",
    "    print(img_path)\n",
    "    img = Image.open(img_path)  \n",
    "    # 显示图片  \n",
    "    # 显示图片，注意这里需要使用plt的imshow函数  \n",
    "    plt.imshow(img)  \n",
    "\n",
    "    # 设置x和y轴的标签为空，防止在图片上显示刻度  \n",
    "    plt.xticks([])  \n",
    "    plt.yticks([])  \n",
    "\n",
    "    # 显示图片窗口  \n",
    "    plt.show()\n",
    "    \n",
    "    \n",
    "    ##显示该图片对应的5个预测结果text：\n",
    "    for t in ditc_['text_ids']:\n",
    "        print(textid2txt_dict[t])\n",
    "    "
   ]
  },
  {
   "cell_type": "code",
   "execution_count": 13,
   "id": "df220bc3",
   "metadata": {
    "ExecuteTime": {
     "end_time": "2024-03-23T03:55:30.419444Z",
     "start_time": "2024-03-23T03:55:30.287798Z"
    }
   },
   "outputs": [
    {
     "name": "stdout",
     "output_type": "stream",
     "text": [
      "Image14105002-9595.jpg\n",
      "D:/2024tdb/B/B题-示例数据/示例数据/附件3/ImageData\\Image14105002-9595.jpg\n"
     ]
    },
    {
     "data": {
      "image/png": "[encoded data removed]",
      "text/plain": [
       "<Figure size 640x480 with 1 Axes>"
      ]
     },
     "metadata": {},
     "output_type": "display_data"
    },
    {
     "name": "stdout",
     "output_type": "stream",
     "text": [
      "小学生一定要做的思维拓展题 高级阶段1~3年级 小学生\n",
      "会指导新手爸妈如何通过亲密的互动促进宝宝大脑发育.\n",
      "2020年普陀区幼儿入园网上报名即将开始!手把手教你如何操作\n",
      "对于大部分家长来说,脑袋里剩下的知识已经很难满足辅导孩子课程的\n",
      "和女孩子聊天怎么才不会聊死,高情商的男生都是这样做\n"
     ]
    }
   ],
   "source": [
    "di = {'image_id': 140010139673, 'text_ids': [1000082155, 1000093145, 1000072779, 1000075349, 1000099425]}\n",
    "di2 = {'image_id': 140010146488, 'text_ids': [1000067733, 1000099521, 1000089997, 1000067079, 1000094197]}\n",
    "di3 = {'image_id': 141050029595, 'text_ids': [1000074658, 1000098098, 1000059124, 1000070127, 1000079426]}\n",
    "show_img2txt(di3)"
   ]
  },
  {
   "cell_type": "markdown",
   "id": "1a3333c2",
   "metadata": {},
   "source": [
    "### 整理结果 导出为 result2.csv"
   ]
  },
  {
   "cell_type": "code",
   "execution_count": 14,
   "id": "b6eeee44",
   "metadata": {
    "ExecuteTime": {
     "end_time": "2024-03-23T03:56:28.452021Z",
     "start_time": "2024-03-23T03:56:28.431076Z"
    }
   },
   "outputs": [
    {
     "data": {
      "text/html": [
       "<div>\n",
       "<style scoped>\n",
       "    .dataframe tbody tr th:only-of-type {\n",
       "        vertical-align: middle;\n",
       "    }\n",
       "\n",
       "    .dataframe tbody tr th {\n",
       "        vertical-align: top;\n",
       "    }\n",
       "\n",
       "    .dataframe thead th {\n",
       "        text-align: right;\n",
       "    }\n",
       "</style>\n",
       "<table border=\"1\" class=\"dataframe\">\n",
       "  <thead>\n",
       "    <tr style=\"text-align: right;\">\n",
       "      <th></th>\n",
       "      <th>image_id</th>\n",
       "      <th>similarity_ranking</th>\n",
       "      <th>result_text_id</th>\n",
       "    </tr>\n",
       "  </thead>\n",
       "  <tbody>\n",
       "    <tr>\n",
       "      <th>0</th>\n",
       "      <td>Image14001013-9673.jpg</td>\n",
       "      <td>1</td>\n",
       "      <td>Word-1000082155</td>\n",
       "    </tr>\n",
       "    <tr>\n",
       "      <th>1</th>\n",
       "      <td>Image14001013-9673.jpg</td>\n",
       "      <td>2</td>\n",
       "      <td>Word-1000093145</td>\n",
       "    </tr>\n",
       "    <tr>\n",
       "      <th>2</th>\n",
       "      <td>Image14001013-9673.jpg</td>\n",
       "      <td>3</td>\n",
       "      <td>Word-1000072779</td>\n",
       "    </tr>\n",
       "    <tr>\n",
       "      <th>3</th>\n",
       "      <td>Image14001013-9673.jpg</td>\n",
       "      <td>4</td>\n",
       "      <td>Word-1000075349</td>\n",
       "    </tr>\n",
       "    <tr>\n",
       "      <th>4</th>\n",
       "      <td>Image14001013-9673.jpg</td>\n",
       "      <td>5</td>\n",
       "      <td>Word-1000099425</td>\n",
       "    </tr>\n",
       "    <tr>\n",
       "      <th>...</th>\n",
       "      <td>...</td>\n",
       "      <td>...</td>\n",
       "      <td>...</td>\n",
       "    </tr>\n",
       "    <tr>\n",
       "      <th>495</th>\n",
       "      <td>Image14105004-6316.jpg</td>\n",
       "      <td>1</td>\n",
       "      <td>Word-1000060320</td>\n",
       "    </tr>\n",
       "    <tr>\n",
       "      <th>496</th>\n",
       "      <td>Image14105004-6316.jpg</td>\n",
       "      <td>2</td>\n",
       "      <td>Word-1000068387</td>\n",
       "    </tr>\n",
       "    <tr>\n",
       "      <th>497</th>\n",
       "      <td>Image14105004-6316.jpg</td>\n",
       "      <td>3</td>\n",
       "      <td>Word-1000089840</td>\n",
       "    </tr>\n",
       "    <tr>\n",
       "      <th>498</th>\n",
       "      <td>Image14105004-6316.jpg</td>\n",
       "      <td>4</td>\n",
       "      <td>Word-1000080875</td>\n",
       "    </tr>\n",
       "    <tr>\n",
       "      <th>499</th>\n",
       "      <td>Image14105004-6316.jpg</td>\n",
       "      <td>5</td>\n",
       "      <td>Word-1000099425</td>\n",
       "    </tr>\n",
       "  </tbody>\n",
       "</table>\n",
       "<p>500 rows × 3 columns</p>\n",
       "</div>"
      ],
      "text/plain": [
       "                   image_id  similarity_ranking   result_text_id\n",
       "0    Image14001013-9673.jpg                   1  Word-1000082155\n",
       "1    Image14001013-9673.jpg                   2  Word-1000093145\n",
       "2    Image14001013-9673.jpg                   3  Word-1000072779\n",
       "3    Image14001013-9673.jpg                   4  Word-1000075349\n",
       "4    Image14001013-9673.jpg                   5  Word-1000099425\n",
       "..                      ...                 ...              ...\n",
       "495  Image14105004-6316.jpg                   1  Word-1000060320\n",
       "496  Image14105004-6316.jpg                   2  Word-1000068387\n",
       "497  Image14105004-6316.jpg                   3  Word-1000089840\n",
       "498  Image14105004-6316.jpg                   4  Word-1000080875\n",
       "499  Image14105004-6316.jpg                   5  Word-1000099425\n",
       "\n",
       "[500 rows x 3 columns]"
      ]
     },
     "execution_count": 14,
     "metadata": {},
     "output_type": "execute_result"
    }
   ],
   "source": [
    "## 读取结果jsonl\n",
    "image_id = []\n",
    "similarity_ranking =[]\n",
    "result_text_id = []\n",
    "\n",
    "with open(img2text_result, 'r', encoding=\"utf-8\") as f:\n",
    "    for index,line in enumerate(f):\n",
    "        data = json.loads(line)\n",
    "#         print(data)\n",
    "        for index,v in enumerate(data['text_ids']):\n",
    "            image_id.append(imgid_dict[data['image_id']])\n",
    "            similarity_ranking.append(index+1)\n",
    "            result_text_id.append(textid_dict[v])\n",
    "        \n",
    "result2_data = {  \n",
    "    'image_id': image_id,  \n",
    "    'similarity_ranking':similarity_ranking,  \n",
    "    'result_text_id': result_text_id\n",
    "}  \n",
    "  \n",
    "# 使用pd.DataFrame()函数创建DataFrame  \n",
    "result2_df = pd.DataFrame(result2_data)  \n",
    "  \n",
    "# 显示DataFrame的内容  \n",
    "result2_df"
   ]
  },
  {
   "cell_type": "code",
   "execution_count": 15,
   "id": "cdce1491",
   "metadata": {
    "ExecuteTime": {
     "end_time": "2024-03-23T03:56:30.029988Z",
     "start_time": "2024-03-23T03:56:29.974127Z"
    }
   },
   "outputs": [
    {
     "name": "stderr",
     "output_type": "stream",
     "text": [
      "C:\\Users\\X\\AppData\\Local\\Temp\\ipykernel_12452\\705999972.py:9: FutureWarning: Not prepending group keys to the result index of transform-like apply. In the future, the group keys will be included in the index, regardless of whether the applied function returns a like-indexed object.\n",
      "To preserve the previous behavior, use\n",
      "\n",
      "\t>>> .groupby(..., group_keys=False)\n",
      "\n",
      "To adopt the future behavior and silence this warning, use \n",
      "\n",
      "\t>>> .groupby(..., group_keys=True)\n",
      "  result = result2_df.groupby('image_id', as_index=False, sort=False).apply(custom_text_id).reset_index(drop=True)\n"
     ]
    },
    {
     "data": {
      "text/html": [
       "<div>\n",
       "<style scoped>\n",
       "    .dataframe tbody tr th:only-of-type {\n",
       "        vertical-align: middle;\n",
       "    }\n",
       "\n",
       "    .dataframe tbody tr th {\n",
       "        vertical-align: top;\n",
       "    }\n",
       "\n",
       "    .dataframe thead th {\n",
       "        text-align: right;\n",
       "    }\n",
       "</style>\n",
       "<table border=\"1\" class=\"dataframe\">\n",
       "  <thead>\n",
       "    <tr style=\"text-align: right;\">\n",
       "      <th></th>\n",
       "      <th>image_id</th>\n",
       "      <th>similarity_ranking</th>\n",
       "      <th>result_text_id</th>\n",
       "    </tr>\n",
       "  </thead>\n",
       "  <tbody>\n",
       "    <tr>\n",
       "      <th>0</th>\n",
       "      <td>Image14001013-9673.jpg</td>\n",
       "      <td>1</td>\n",
       "      <td>Word-1000082155</td>\n",
       "    </tr>\n",
       "    <tr>\n",
       "      <th>1</th>\n",
       "      <td></td>\n",
       "      <td>2</td>\n",
       "      <td>Word-1000093145</td>\n",
       "    </tr>\n",
       "    <tr>\n",
       "      <th>2</th>\n",
       "      <td></td>\n",
       "      <td>3</td>\n",
       "      <td>Word-1000072779</td>\n",
       "    </tr>\n",
       "    <tr>\n",
       "      <th>3</th>\n",
       "      <td></td>\n",
       "      <td>4</td>\n",
       "      <td>Word-1000075349</td>\n",
       "    </tr>\n",
       "    <tr>\n",
       "      <th>4</th>\n",
       "      <td></td>\n",
       "      <td>5</td>\n",
       "      <td>Word-1000099425</td>\n",
       "    </tr>\n",
       "    <tr>\n",
       "      <th>...</th>\n",
       "      <td>...</td>\n",
       "      <td>...</td>\n",
       "      <td>...</td>\n",
       "    </tr>\n",
       "    <tr>\n",
       "      <th>495</th>\n",
       "      <td>Image14105004-6316.jpg</td>\n",
       "      <td>1</td>\n",
       "      <td>Word-1000060320</td>\n",
       "    </tr>\n",
       "    <tr>\n",
       "      <th>496</th>\n",
       "      <td></td>\n",
       "      <td>2</td>\n",
       "      <td>Word-1000068387</td>\n",
       "    </tr>\n",
       "    <tr>\n",
       "      <th>497</th>\n",
       "      <td></td>\n",
       "      <td>3</td>\n",
       "      <td>Word-1000089840</td>\n",
       "    </tr>\n",
       "    <tr>\n",
       "      <th>498</th>\n",
       "      <td></td>\n",
       "      <td>4</td>\n",
       "      <td>Word-1000080875</td>\n",
       "    </tr>\n",
       "    <tr>\n",
       "      <th>499</th>\n",
       "      <td></td>\n",
       "      <td>5</td>\n",
       "      <td>Word-1000099425</td>\n",
       "    </tr>\n",
       "  </tbody>\n",
       "</table>\n",
       "<p>500 rows × 3 columns</p>\n",
       "</div>"
      ],
      "text/plain": [
       "                   image_id  similarity_ranking   result_text_id\n",
       "0    Image14001013-9673.jpg                   1  Word-1000082155\n",
       "1                                             2  Word-1000093145\n",
       "2                                             3  Word-1000072779\n",
       "3                                             4  Word-1000075349\n",
       "4                                             5  Word-1000099425\n",
       "..                      ...                 ...              ...\n",
       "495  Image14105004-6316.jpg                   1  Word-1000060320\n",
       "496                                           2  Word-1000068387\n",
       "497                                           3  Word-1000089840\n",
       "498                                           4  Word-1000080875\n",
       "499                                           5  Word-1000099425\n",
       "\n",
       "[500 rows x 3 columns]"
      ]
     },
     "execution_count": 15,
     "metadata": {},
     "output_type": "execute_result"
    }
   ],
   "source": [
    "# 使用自定义函数来处理 text_id 列  \n",
    "def custom_text_id(group):  \n",
    "    # 仅在第一行保留 text_id，其余行留空  \n",
    "    group.iloc[0, group.columns.get_loc('image_id')] = group.iloc[0, group.columns.get_loc('image_id')]  \n",
    "    group.iloc[1:, group.columns.get_loc('image_id')] = ''  \n",
    "    return group  \n",
    "\n",
    "# 按 text_id 分组并应用自定义函数  \n",
    "result = result2_df.groupby('image_id', as_index=False, sort=False).apply(custom_text_id).reset_index(drop=True)  \n",
    "result"
   ]
  },
  {
   "cell_type": "code",
   "execution_count": 51,
   "id": "9b419d57",
   "metadata": {
    "ExecuteTime": {
     "end_time": "2024-03-22T14:40:54.497355Z",
     "start_time": "2024-03-22T14:40:54.490374Z"
    }
   },
   "outputs": [],
   "source": [
    "result.to_csv(\"result2.csv\",encoding='utf-8',index=False)"
   ]
  },
  {
   "cell_type": "code",
   "execution_count": null,
   "id": "d00e4b5b",
   "metadata": {},
   "outputs": [],
   "source": []
  },
  {
   "cell_type": "code",
   "execution_count": null,
   "id": "a98aad54",
   "metadata": {},
   "outputs": [],
   "source": []
  },
  {
   "cell_type": "code",
   "execution_count": null,
   "id": "18e759fe",
   "metadata": {},
   "outputs": [],
   "source": []
  }
 ],
 "metadata": {
  "kernelspec": {
   "display_name": "Python 3 (ipykernel)",
   "language": "python",
   "name": "python3"
  },
  "language_info": {
   "codemirror_mode": {
    "name": "ipython",
    "version": 3
   },
   "file_extension": ".py",
   "mimetype": "text/x-python",
   "name": "python",
   "nbconvert_exporter": "python",
   "pygments_lexer": "ipython3",
   "version": "3.11.5"
  },
  "toc": {
   "base_numbering": 1,
   "nav_menu": {},
   "number_sections": true,
   "sideBar": true,
   "skip_h1_title": false,
   "title_cell": "Table of Contents",
   "title_sidebar": "Contents",
   "toc_cell": false,
   "toc_position": {
    "height": "calc(100% - 180px)",
    "left": "10px",
    "top": "150px",
    "width": "326.123px"
   },
   "toc_section_display": true,
   "toc_window_display": true
  }
 },
 "nbformat": 4,
 "nbformat_minor": 5
}
